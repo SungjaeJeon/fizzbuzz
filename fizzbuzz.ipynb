{
 "cells": [
  {
   "cell_type": "markdown",
   "id": "608b3668",
   "metadata": {},
   "source": [
    "## fizzbuzz"
   ]
  },
  {
   "cell_type": "code",
   "execution_count": 4,
   "id": "76e793e4",
   "metadata": {
    "ExecuteTime": {
     "end_time": "2022-09-23T11:10:21.425723Z",
     "start_time": "2022-09-23T11:10:21.419718Z"
    }
   },
   "outputs": [],
   "source": [
    "def fizzbuzz():\n",
    "    for i in range(1, 24+1):\n",
    "        if i % 15 == 0:\n",
    "            print(\"fizzbuzz\")\n",
    "        elif i % 3 == 0:\n",
    "            print(\"fizz\")\n",
    "        elif i % 5 == 0:\n",
    "            print(\"buzz\")\n",
    "        else:\n",
    "            print(i)\n",
    "\n",
    "def fizzbuzz_2():\n",
    "    for i in range(1, 24+1):\n",
    "        if i % 3 == 0 or i % 5 == 0:\n",
    "            print (\"fizz\" * (i % 3 == 0) + \"buzz\" * (i % 5 == 0))\n",
    "        else:\n",
    "            print(i)"
   ]
  },
  {
   "cell_type": "code",
   "execution_count": 6,
   "id": "2289690c",
   "metadata": {
    "ExecuteTime": {
     "end_time": "2022-09-23T11:10:39.429585Z",
     "start_time": "2022-09-23T11:10:39.422578Z"
    },
    "scrolled": true
   },
   "outputs": [
    {
     "name": "stdout",
     "output_type": "stream",
     "text": [
      "1\n",
      "2\n",
      "fizz\n",
      "4\n",
      "buzz\n",
      "fizz\n",
      "7\n",
      "8\n",
      "fizz\n",
      "buzz\n",
      "11\n",
      "fizz\n",
      "13\n",
      "14\n",
      "fizzbuzz\n",
      "16\n",
      "17\n",
      "fizz\n",
      "19\n",
      "buzz\n",
      "fizz\n",
      "22\n",
      "23\n",
      "fizz\n",
      "------------------------------\n",
      "1\n",
      "2\n",
      "fizz\n",
      "4\n",
      "buzz\n",
      "fizz\n",
      "7\n",
      "8\n",
      "fizz\n",
      "buzz\n",
      "11\n",
      "fizz\n",
      "13\n",
      "14\n",
      "fizzbuzz\n",
      "16\n",
      "17\n",
      "fizz\n",
      "19\n",
      "buzz\n",
      "fizz\n",
      "22\n",
      "23\n",
      "fizz\n"
     ]
    }
   ],
   "source": [
    "if __name__ == '__main__':\n",
    "    fizzbuzz()\n",
    "    print('-' * 30)\n",
    "    fizzbuzz_2()"
   ]
  },
  {
   "cell_type": "code",
   "execution_count": null,
   "id": "ae9aba7f",
   "metadata": {},
   "outputs": [],
   "source": []
  }
 ],
 "metadata": {
  "hide_input": false,
  "kernelspec": {
   "display_name": "Python 3",
   "language": "python",
   "name": "python3"
  },
  "language_info": {
   "codemirror_mode": {
    "name": "ipython",
    "version": 3
   },
   "file_extension": ".py",
   "mimetype": "text/x-python",
   "name": "python",
   "nbconvert_exporter": "python",
   "pygments_lexer": "ipython3",
   "version": "3.8.8"
  },
  "varInspector": {
   "cols": {
    "lenName": 16,
    "lenType": 16,
    "lenVar": 40
   },
   "kernels_config": {
    "python": {
     "delete_cmd_postfix": "",
     "delete_cmd_prefix": "del ",
     "library": "var_list.py",
     "varRefreshCmd": "print(var_dic_list())"
    },
    "r": {
     "delete_cmd_postfix": ") ",
     "delete_cmd_prefix": "rm(",
     "library": "var_list.r",
     "varRefreshCmd": "cat(var_dic_list()) "
    }
   },
   "types_to_exclude": [
    "module",
    "function",
    "builtin_function_or_method",
    "instance",
    "_Feature"
   ],
   "window_display": false
  }
 },
 "nbformat": 4,
 "nbformat_minor": 5
}
