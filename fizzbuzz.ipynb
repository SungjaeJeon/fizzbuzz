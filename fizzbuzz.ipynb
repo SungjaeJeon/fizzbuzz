{
 "cells": [
  {
   "cell_type": "markdown",
   "id": "608b3668",
   "metadata": {},
   "source": [
    "## fizzbuzz"
   ]
  },
  {
   "cell_type": "code",
   "execution_count": 11,
   "id": "76e793e4",
   "metadata": {},
   "outputs": [
    {
     "name": "stdout",
     "output_type": "stream",
     "text": [
      "fizz\n",
      "fizz\n",
      "fizz\n",
      "fizz\n",
      "fizz\n",
      "fizz\n",
      "fizz\n",
      "fizz\n",
      "fizz\n",
      "fizz\n",
      "fizz\n",
      "fizz\n",
      "fizz\n",
      "fizz\n",
      "fizz\n",
      "fizz\n",
      "fizz\n",
      "fizz\n",
      "fizz\n",
      "fizz\n",
      "fizz\n",
      "fizz\n",
      "fizz\n",
      "fizz\n"
     ]
    }
   ],
   "source": [
    "def fizzbuzz():\n",
    "    for i in range(1,24+1):\n",
    "        print(\"fizz\")\n",
    "fizzbuzz()"
   ]
  },
  {
   "cell_type": "code",
   "execution_count": 12,
   "id": "2289690c",
   "metadata": {},
   "outputs": [
    {
     "name": "stdout",
     "output_type": "stream",
     "text": [
      "buzz\n",
      "buzz\n",
      "buzz\n",
      "buzz\n",
      "buzz\n",
      "buzz\n",
      "buzz\n",
      "buzz\n",
      "buzz\n",
      "buzz\n",
      "buzz\n",
      "buzz\n",
      "buzz\n",
      "buzz\n",
      "buzz\n",
      "buzz\n",
      "buzz\n",
      "buzz\n",
      "buzz\n",
      "buzz\n",
      "buzz\n",
      "buzz\n",
      "buzz\n",
      "buzz\n"
     ]
    }
   ],
   "source": [
    "def fizzbuzz():\n",
    "    for i in range(1,24+1):\n",
    "        print(\"buzz\")\n",
    "fizzbuzz()"
   ]
  },
  {
   "cell_type": "code",
   "execution_count": 13,
   "id": "b1e35808",
   "metadata": {},
   "outputs": [
    {
     "name": "stdout",
     "output_type": "stream",
     "text": [
      "fizzbuzz\n",
      "fizzbuzz\n",
      "fizzbuzz\n",
      "fizzbuzz\n",
      "fizzbuzz\n",
      "fizzbuzz\n",
      "fizzbuzz\n",
      "fizzbuzz\n",
      "fizzbuzz\n",
      "fizzbuzz\n",
      "fizzbuzz\n",
      "fizzbuzz\n",
      "fizzbuzz\n",
      "fizzbuzz\n",
      "fizzbuzz\n",
      "fizzbuzz\n",
      "fizzbuzz\n",
      "fizzbuzz\n",
      "fizzbuzz\n",
      "fizzbuzz\n",
      "fizzbuzz\n",
      "fizzbuzz\n",
      "fizzbuzz\n",
      "fizzbuzz\n"
     ]
    }
   ],
   "source": [
    "def fizzbuzz():\n",
    "    for i in range(1,24+1):\n",
    "        print(\"fizzbuzz\")\n",
    "fizzbuzz()"
   ]
  }
 ],
 "metadata": {
  "kernelspec": {
   "display_name": "Python 3",
   "language": "python",
   "name": "python3"
  },
  "language_info": {
   "codemirror_mode": {
    "name": "ipython",
    "version": 3
   },
   "file_extension": ".py",
   "mimetype": "text/x-python",
   "name": "python",
   "nbconvert_exporter": "python",
   "pygments_lexer": "ipython3",
   "version": "3.8.8"
  }
 },
 "nbformat": 4,
 "nbformat_minor": 5
}
